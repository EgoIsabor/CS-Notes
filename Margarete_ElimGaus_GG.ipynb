{
  "nbformat": 4,
  "nbformat_minor": 0,
  "metadata": {
    "colab": {
      "name": "Margarete_ElimGaus_GG.ipynb",
      "provenance": [],
      "include_colab_link": true
    },
    "kernelspec": {
      "name": "python3",
      "display_name": "Python 3"
    },
    "language_info": {
      "name": "python"
    }
  },
  "cells": [
    {
      "cell_type": "markdown",
      "metadata": {
        "id": "view-in-github",
        "colab_type": "text"
      },
      "source": [
        "<a href=\"https://colab.research.google.com/github/EgoIsabor/CS-Notes/blob/master/Margarete_ElimGaus_GG.ipynb\" target=\"_parent\"><img src=\"https://colab.research.google.com/assets/colab-badge.svg\" alt=\"Open In Colab\"/></a>"
      ]
    },
    {
      "cell_type": "markdown",
      "metadata": {
        "id": "2U5Y4zvI__in"
      },
      "source": [
        "#Método da Eliminação de Gauss para solução de sistema Linear."
      ]
    },
    {
      "cell_type": "code",
      "metadata": {
        "id": "YXDa9LVKAD-h"
      },
      "source": [
        "def substretro(A, b):\n",
        "\n",
        "  n = len(A) # n é a ordem da matriz.\n",
        "\n",
        "  x = n*[0] #inicializando um vetor x com tamanho n e elementos iguais a 0.\n",
        "\n",
        "  for i  in range(n-1, -1, -1):\n",
        "    S = 0\n",
        "    for j in range(i + 1, n):\n",
        "      S = S + A[i][j]*x[j]\n",
        "    x[i] = (b[i] - S)/A[i][i]\n",
        "  return x"
      ],
      "execution_count": null,
      "outputs": []
    },
    {
      "cell_type": "code",
      "metadata": {
        "id": "lc1_ePHWAFK8"
      },
      "source": [
        "def gauss(A, b):\n",
        "\n",
        "  n = len(A)\n",
        "\n",
        "  for k in range(0, n-1):\n",
        "    for i in range(k+1, n):\n",
        "      #Calculando o fator m\n",
        "      m = - A[i][k]/A[k][k]\n",
        "      #Atualizando a linha, percorrendo a coluna j \n",
        "      for j in range(k+1, n):\n",
        "        A[i][j] = m*A[k][j] + A[i][j]\n",
        "      # Atualiza o vetor b na linha i\n",
        "      b[i] = m*b[k] + b[i]\n",
        "      A[i][k] = 0\n",
        "  # Agora resolve o sistema triangular superior\n",
        "  x = substretro(A, b)\n",
        "  return x"
      ],
      "execution_count": null,
      "outputs": []
    },
    {
      "cell_type": "markdown",
      "metadata": {
        "id": "OdUnMPozAIUD"
      },
      "source": [
        "## Exemplo 1\n",
        "\n",
        "$Ax = b$\n",
        "\n",
        "Consideramos a matriz \n",
        "\n",
        "$A = \n",
        "\\left(\n",
        "\\begin{array}{ccc}\n",
        "  1 & -3 & 2 \\\\\n",
        "  -2 & 8 & -1 \\\\\n",
        "  4 & -6 & 5\n",
        "\\end{array}\n",
        "\\right) \n",
        "$\n",
        "\n",
        "e o vetor \n",
        "\n",
        "$\n",
        "b = \n",
        "\\left(\n",
        "\\begin{array}{c}\n",
        "  11 \\\\\n",
        "  -15 \\\\\n",
        "  29\n",
        "\\end{array}\n",
        "\\right) \n",
        "$"
      ]
    },
    {
      "cell_type": "code",
      "metadata": {
        "colab": {
          "base_uri": "https://localhost:8080/"
        },
        "id": "URq7bMuaAP6j",
        "outputId": "df17e5f2-da25-4ec4-cf2b-2420bf2bd4c5"
      },
      "source": [
        "A1 = [[1,-3,2],\n",
        "      [-2,8,-1],\n",
        "      [4,-6,5]]\n",
        "b1 = [11,-15,29]\n",
        "x = gauss(A1, b1)\n",
        "print(x)"
      ],
      "execution_count": null,
      "outputs": [
        {
          "output_type": "stream",
          "name": "stdout",
          "text": [
            "[2.0, -1.0, 3.0]\n"
          ]
        }
      ]
    },
    {
      "cell_type": "markdown",
      "metadata": {
        "id": "QdogfA32AeKk"
      },
      "source": [
        "###Se tudo der certo, vc deve encontrar \n",
        "$\n",
        "b = \n",
        "\\left(\n",
        "\\begin{array}{c}\n",
        "  2.0 \\\\\n",
        "  -1.0 \\\\\n",
        "  3.0\n",
        "\\end{array}\n",
        "\\right) \n",
        "$"
      ]
    },
    {
      "cell_type": "markdown",
      "metadata": {
        "id": "akRQDQt-AsHe"
      },
      "source": [
        "## Exemplo \n",
        "\n",
        "$Ax = b$\n",
        "\n",
        "Consideramos a matriz \n",
        "\n",
        "$A = \n",
        "\\left(\n",
        "\\begin{array}{ccc}\n",
        "  1 & -1 & 1 \\\\\n",
        "  1 & 2 & 4 \\\\\n",
        "  1 & 0 & 0\n",
        "\\end{array}\n",
        "\\right) \n",
        "$\n",
        "\n",
        "e o vetor \n",
        "\n",
        "$\n",
        "b = \n",
        "\\left(\n",
        "\\begin{array}{c}\n",
        "  -4 \\\\\n",
        "  -1 \\\\\n",
        "  1\n",
        "\\end{array}\n",
        "\\right) \n",
        "$"
      ]
    },
    {
      "cell_type": "markdown",
      "metadata": {
        "id": "mLVvDpUxBgV4"
      },
      "source": [
        "QUESTAO 01"
      ]
    },
    {
      "cell_type": "code",
      "metadata": {
        "colab": {
          "base_uri": "https://localhost:8080/"
        },
        "id": "cWry6NZ0x_yP",
        "outputId": "1e60ee27-bbda-4fb7-9b02-3e94e4695806"
      },
      "source": [
        "A1 = [[1,-1, 1],\n",
        "      [1, 2, 4],\n",
        "      [1, 0, 0]]\n",
        "b1 = [4, -1, 1]\n",
        "x = gauss(A1, b1)\n",
        "print(x)"
      ],
      "execution_count": null,
      "outputs": [
        {
          "output_type": "stream",
          "name": "stdout",
          "text": [
            "[1.0, -2.3333333333333335, 0.6666666666666667]\n"
          ]
        }
      ]
    },
    {
      "cell_type": "code",
      "metadata": {
        "colab": {
          "base_uri": "https://localhost:8080/"
        },
        "id": "6vlajvptzHO8",
        "outputId": "63222945-c4b8-40fb-d7d8-c412429c6018"
      },
      "source": [
        "x[1]"
      ],
      "execution_count": null,
      "outputs": [
        {
          "output_type": "execute_result",
          "data": {
            "text/plain": [
              "-2.3333333333333335"
            ]
          },
          "metadata": {},
          "execution_count": 5
        }
      ]
    },
    {
      "cell_type": "code",
      "metadata": {
        "colab": {
          "base_uri": "https://localhost:8080/"
        },
        "id": "WOMDugxVzJ2b",
        "outputId": "8dfb7529-1396-4e85-edbb-b8faa87f9716"
      },
      "source": [
        "x[0]"
      ],
      "execution_count": null,
      "outputs": [
        {
          "output_type": "execute_result",
          "data": {
            "text/plain": [
              "1.0"
            ]
          },
          "metadata": {},
          "execution_count": 6
        }
      ]
    },
    {
      "cell_type": "code",
      "metadata": {
        "colab": {
          "base_uri": "https://localhost:8080/"
        },
        "id": "rCqHuFM9zLzk",
        "outputId": "8fa9d863-b119-4a49-dc37-7f76e01f6ef7"
      },
      "source": [
        "x[2]"
      ],
      "execution_count": null,
      "outputs": [
        {
          "output_type": "execute_result",
          "data": {
            "text/plain": [
              "0.6666666666666667"
            ]
          },
          "metadata": {},
          "execution_count": 7
        }
      ]
    },
    {
      "cell_type": "markdown",
      "metadata": {
        "id": "ShrjtmcFzPjP"
      },
      "source": [
        "$p(n) = x[0] + x[1] \\cdot n +  x[2] \\cdot n^{2} $\n",
        "\n",
        "### Exemplo \n",
        "\n",
        "$f(0.5) = p(0.5) = x[0] + x[1] \\cdot 0.5 +  x[2] \\cdot 0.5^{2} $"
      ]
    },
    {
      "cell_type": "code",
      "metadata": {
        "colab": {
          "base_uri": "https://localhost:8080/"
        },
        "id": "k-_RumCMzfPD",
        "outputId": "b3eefc60-d4cb-4795-e2ce-600f11d557be"
      },
      "source": [
        "p = x[0] + x[1]*0.5 + x[2]*(0.5**2)\n",
        "print(p)"
      ],
      "execution_count": null,
      "outputs": [
        {
          "output_type": "stream",
          "name": "stdout",
          "text": [
            "-5.551115123125783e-17\n"
          ]
        }
      ]
    },
    {
      "cell_type": "code",
      "metadata": {
        "colab": {
          "base_uri": "https://localhost:8080/"
        },
        "id": "Pwzgd9QOz1l-",
        "outputId": "309829fb-7a67-44e0-ec73-406a4a33c92d"
      },
      "source": [
        "q = 1.0 + (-2.3333333333333335)*0.5 + 0.6666666666666667*(0.5**2)\n",
        "print(q)"
      ],
      "execution_count": null,
      "outputs": [
        {
          "output_type": "stream",
          "name": "stdout",
          "text": [
            "-5.551115123125783e-17\n"
          ]
        }
      ]
    },
    {
      "cell_type": "markdown",
      "metadata": {
        "id": "aE8g9VZZ0dV6"
      },
      "source": [
        "# OBS\n",
        "\n",
        "# 1 - Fazer download de cópia do arquiv em extensão (IPYNB) \n",
        "# 2 - Enviar esta cópia para o email joao.baptista@iff.edu.br\n",
        "\n",
        "### ASSUNTO: NOME_DO_ALUNO-ATIVIDADE04"
      ]
    },
    {
      "cell_type": "code",
      "metadata": {
        "id": "Yk0amKDC0e3I"
      },
      "source": [
        ""
      ],
      "execution_count": null,
      "outputs": []
    },
    {
      "cell_type": "markdown",
      "metadata": {
        "id": "4TTQVnPqaEsg"
      },
      "source": [
        "# **QUESTÃO 01**/AVA 05_MARGARETE LIMA"
      ]
    },
    {
      "cell_type": "code",
      "metadata": {
        "colab": {
          "base_uri": "https://localhost:8080/"
        },
        "id": "deDFuJqAaf3x",
        "outputId": "ec3711ad-85ee-449f-c644-69989621d3b4"
      },
      "source": [
        "A1 =[[1, 1 ,0.01,0.001],\n",
        "    [1,0.2,0.04,0.005],\n",
        "    [1,0.4,0.16,0.064],\n",
        "    [1,0.6,0.36,0.216]]\n",
        "b1 = [0.905,0.819,0.67,0.549]\n",
        "X =  gauss (A1,b1)\n",
        "print (x)   \n"
      ],
      "execution_count": null,
      "outputs": [
        {
          "output_type": "stream",
          "name": "stdout",
          "text": [
            "[1.0, -2.3333333333333335, 0.6666666666666667]\n"
          ]
        }
      ]
    },
    {
      "cell_type": "code",
      "metadata": {
        "colab": {
          "base_uri": "https://localhost:8080/"
        },
        "id": "EEvPvUX1kqrV",
        "outputId": "9b2b5724-cb14-48f3-9670-9a597bec4037"
      },
      "source": [
        "x [0]"
      ],
      "execution_count": null,
      "outputs": [
        {
          "output_type": "execute_result",
          "data": {
            "text/plain": [
              "1.0"
            ]
          },
          "metadata": {},
          "execution_count": 11
        }
      ]
    },
    {
      "cell_type": "code",
      "metadata": {
        "colab": {
          "base_uri": "https://localhost:8080/"
        },
        "id": "KkD2i6WylJFh",
        "outputId": "4fdcdf09-5a5a-4db5-f3f5-a2a4703e7d4f"
      },
      "source": [
        "x[1]"
      ],
      "execution_count": null,
      "outputs": [
        {
          "output_type": "execute_result",
          "data": {
            "text/plain": [
              "-2.3333333333333335"
            ]
          },
          "metadata": {},
          "execution_count": 12
        }
      ]
    },
    {
      "cell_type": "code",
      "metadata": {
        "colab": {
          "base_uri": "https://localhost:8080/"
        },
        "id": "qJ4vMMhGlMGm",
        "outputId": "38295a15-a2bc-4cce-bdba-4ad92c453642"
      },
      "source": [
        "x[2]"
      ],
      "execution_count": null,
      "outputs": [
        {
          "output_type": "execute_result",
          "data": {
            "text/plain": [
              "0.6666666666666667"
            ]
          },
          "metadata": {},
          "execution_count": 13
        }
      ]
    },
    {
      "cell_type": "markdown",
      "metadata": {
        "id": "sbVSMVTElpPq"
      },
      "source": [
        "f(0.5) = [0]"
      ]
    },
    {
      "cell_type": "code",
      "metadata": {
        "colab": {
          "base_uri": "https://localhost:8080/"
        },
        "id": "ojleYK98mJAW",
        "outputId": "8b9805fb-0f35-4905-eb5f-b720b9f1c7f4"
      },
      "source": [
        "p = x[0] + x[1]*0.5 + x[2]*(0.5**2) \n",
        "print(p)"
      ],
      "execution_count": null,
      "outputs": [
        {
          "output_type": "stream",
          "name": "stdout",
          "text": [
            "-5.551115123125783e-17\n"
          ]
        }
      ]
    },
    {
      "cell_type": "markdown",
      "metadata": {
        "id": "L3MrSHOvm7F2"
      },
      "source": [
        "QUESTÃO 02"
      ]
    },
    {
      "cell_type": "code",
      "metadata": {
        "colab": {
          "base_uri": "https://localhost:8080/"
        },
        "id": "BF40bVu-wMTG",
        "outputId": "a6eadb9e-fde0-4bbe-ddec-5d13eeb29565"
      },
      "source": [
        "A1 = [[1, 1, 1**2, 1**3, 1**4, 1**5],\n",
        "      [1, 1.01, 1.01**2, 1.01**3, 1.01**4, 1.01**5],\n",
        "      [1, 1.02, 1.02**2, 1.02**3, 1.02**4, 1.02**5],\n",
        "      [1, 1.03, 1.03**2, 1.03**3, 1.03**4, 1.03**5],\n",
        "      [1, 1.04, 1.04**2, 1.04**3, 1.04**4, 1.04**5],\n",
        "      [1, 1.05, 1.05**2, 1.05**3, 1.05**4, 1.05**5]]\n",
        "b1 = [1, 1.005, 1.01, 1.0149, 1.0198, 1.0247]\n",
        "x = gauss(A1, b1)\n",
        "print(x)    "
      ],
      "execution_count": null,
      "outputs": [
        {
          "output_type": "stream",
          "name": "stdout",
          "text": [
            "[28490.69455403584, -138800.7469570735, 270465.29503426823, -263487.62489952566, 128333.39408769699, -25000.011819401883]\n"
          ]
        }
      ]
    },
    {
      "cell_type": "markdown",
      "metadata": {
        "id": "J3lBjg-9GEFm"
      },
      "source": [
        "Raiz de 1.1 = p"
      ]
    },
    {
      "cell_type": "code",
      "metadata": {
        "colab": {
          "base_uri": "https://localhost:8080/"
        },
        "id": "MNz5PvIZF1t4",
        "outputId": "fbe4e1e4-e545-4c07-93d8-122d2a10563f"
      },
      "source": [
        "p = x[0] + x[1]*pow(1.1,1/2) + x[2]*(pow(1.1,1/2)**2) + x[3]*(pow(1.1,1/2)**3) + x[4]*(pow(1.1,1/2)**4) + x[5]*(pow(1.1,1/2)**5)\n",
        "print(p)"
      ],
      "execution_count": null,
      "outputs": [
        {
          "output_type": "stream",
          "name": "stdout",
          "text": [
            "1.0241242209012853\n"
          ]
        }
      ]
    },
    {
      "cell_type": "code",
      "metadata": {
        "colab": {
          "base_uri": "https://localhost:8080/",
          "height": 339
        },
        "id": "LUwY8KthT6ZU",
        "outputId": "a65daf60-dfcc-4001-91dc-bc9b8979c5cc"
      },
      "source": [
        "a1 =[[1,2.4,5.76, 13.82],\n",
        "     [1,2.6,6.76, 17.57],\n",
        "     [1,2.8,7.84, 21.95],\n",
        "     [1,3.8,14.44,54.87]]\n",
        "b1 = [11.02,13.46,16.44,20.08]\n",
        "x =  gauss (A1,b1)\n",
        "print (x)"
      ],
      "execution_count": 18,
      "outputs": [
        {
          "output_type": "error",
          "ename": "IndexError",
          "evalue": "ignored",
          "traceback": [
            "\u001b[0;31m---------------------------------------------------------------------------\u001b[0m",
            "\u001b[0;31mIndexError\u001b[0m                                Traceback (most recent call last)",
            "\u001b[0;32m<ipython-input-18-b97e41d8f896>\u001b[0m in \u001b[0;36m<module>\u001b[0;34m()\u001b[0m\n\u001b[1;32m      4\u001b[0m      [1,3.8,14.44, 54.87]]\n\u001b[1;32m      5\u001b[0m \u001b[0mb1\u001b[0m \u001b[0;34m=\u001b[0m \u001b[0;34m[\u001b[0m\u001b[0;36m11.02\u001b[0m\u001b[0;34m,\u001b[0m\u001b[0;36m13.46\u001b[0m\u001b[0;34m,\u001b[0m\u001b[0;36m16.44\u001b[0m\u001b[0;34m,\u001b[0m\u001b[0;36m20.08\u001b[0m\u001b[0;34m]\u001b[0m\u001b[0;34m\u001b[0m\u001b[0;34m\u001b[0m\u001b[0m\n\u001b[0;32m----> 6\u001b[0;31m \u001b[0mx\u001b[0m \u001b[0;34m=\u001b[0m  \u001b[0mgauss\u001b[0m \u001b[0;34m(\u001b[0m\u001b[0mA1\u001b[0m\u001b[0;34m,\u001b[0m\u001b[0mb1\u001b[0m\u001b[0;34m)\u001b[0m\u001b[0;34m\u001b[0m\u001b[0;34m\u001b[0m\u001b[0m\n\u001b[0m\u001b[1;32m      7\u001b[0m \u001b[0mprint\u001b[0m \u001b[0;34m(\u001b[0m\u001b[0mx\u001b[0m\u001b[0;34m)\u001b[0m\u001b[0;34m\u001b[0m\u001b[0;34m\u001b[0m\u001b[0m\n",
            "\u001b[0;32m<ipython-input-2-5bdc8da74487>\u001b[0m in \u001b[0;36mgauss\u001b[0;34m(A, b)\u001b[0m\n\u001b[1;32m     11\u001b[0m         \u001b[0mA\u001b[0m\u001b[0;34m[\u001b[0m\u001b[0mi\u001b[0m\u001b[0;34m]\u001b[0m\u001b[0;34m[\u001b[0m\u001b[0mj\u001b[0m\u001b[0;34m]\u001b[0m \u001b[0;34m=\u001b[0m \u001b[0mm\u001b[0m\u001b[0;34m*\u001b[0m\u001b[0mA\u001b[0m\u001b[0;34m[\u001b[0m\u001b[0mk\u001b[0m\u001b[0;34m]\u001b[0m\u001b[0;34m[\u001b[0m\u001b[0mj\u001b[0m\u001b[0;34m]\u001b[0m \u001b[0;34m+\u001b[0m \u001b[0mA\u001b[0m\u001b[0;34m[\u001b[0m\u001b[0mi\u001b[0m\u001b[0;34m]\u001b[0m\u001b[0;34m[\u001b[0m\u001b[0mj\u001b[0m\u001b[0;34m]\u001b[0m\u001b[0;34m\u001b[0m\u001b[0;34m\u001b[0m\u001b[0m\n\u001b[1;32m     12\u001b[0m       \u001b[0;31m# Atualiza o vetor b na linha i\u001b[0m\u001b[0;34m\u001b[0m\u001b[0;34m\u001b[0m\u001b[0;34m\u001b[0m\u001b[0m\n\u001b[0;32m---> 13\u001b[0;31m       \u001b[0mb\u001b[0m\u001b[0;34m[\u001b[0m\u001b[0mi\u001b[0m\u001b[0;34m]\u001b[0m \u001b[0;34m=\u001b[0m \u001b[0mm\u001b[0m\u001b[0;34m*\u001b[0m\u001b[0mb\u001b[0m\u001b[0;34m[\u001b[0m\u001b[0mk\u001b[0m\u001b[0;34m]\u001b[0m \u001b[0;34m+\u001b[0m \u001b[0mb\u001b[0m\u001b[0;34m[\u001b[0m\u001b[0mi\u001b[0m\u001b[0;34m]\u001b[0m\u001b[0;34m\u001b[0m\u001b[0;34m\u001b[0m\u001b[0m\n\u001b[0m\u001b[1;32m     14\u001b[0m       \u001b[0mA\u001b[0m\u001b[0;34m[\u001b[0m\u001b[0mi\u001b[0m\u001b[0;34m]\u001b[0m\u001b[0;34m[\u001b[0m\u001b[0mk\u001b[0m\u001b[0;34m]\u001b[0m \u001b[0;34m=\u001b[0m \u001b[0;36m0\u001b[0m\u001b[0;34m\u001b[0m\u001b[0;34m\u001b[0m\u001b[0m\n\u001b[1;32m     15\u001b[0m   \u001b[0;31m# Agora resolve o sistema triangular superior\u001b[0m\u001b[0;34m\u001b[0m\u001b[0;34m\u001b[0m\u001b[0;34m\u001b[0m\u001b[0m\n",
            "\u001b[0;31mIndexError\u001b[0m: list index out of range"
          ]
        }
      ]
    }
  ]
}