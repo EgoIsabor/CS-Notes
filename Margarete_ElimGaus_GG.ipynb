{
  "nbformat": 4,
  "nbformat_minor": 0,
  "metadata": {
    "colab": {
      "name": "Margarete_ElimGaus_GG.ipynb",
      "provenance": [],
      "include_colab_link": true
    },
    "kernelspec": {
      "name": "python3",
      "display_name": "Python 3"
    },
    "language_info": {
      "name": "python"
    }
  },
  "cells": [
    {
      "cell_type": "markdown",
      "metadata": {
        "id": "view-in-github",
        "colab_type": "text"
      },
      "source": [
        "<a href=\"https://colab.research.google.com/github/EgoIsabor/CS-Notes/blob/master/Margarete_ElimGaus_GG.ipynb\" target=\"_parent\"><img src=\"https://colab.research.google.com/assets/colab-badge.svg\" alt=\"Open In Colab\"/></a>"
      ]
    },
    {
      "cell_type": "code",
      "metadata": {
        "id": "69rVPDBTUbCX"
      },
      "source": [
        "import numpy as np\n",
        "import math\n"
      ],
      "execution_count": 16,
      "outputs": []
    },
    {
      "cell_type": "markdown",
      "metadata": {
        "id": "2U5Y4zvI__in"
      },
      "source": [
        "#Método da Eliminação de Gauss para solução de sistema Linear."
      ]
    },
    {
      "cell_type": "code",
      "metadata": {
        "id": "YXDa9LVKAD-h"
      },
      "source": [
        "def substretro(A, b):\n",
        "\n",
        "  n = len(A) # n é a ordem da matriz.\n",
        "\n",
        "  x = n*[0] #inicializando um vetor x com tamanho n e elementos iguais a 0.\n",
        "\n",
        "  for i  in range(n-1, -1, -1):\n",
        "    S = 0\n",
        "    for j in range(i + 1, n):\n",
        "      S = S + A[i][j]*x[j]\n",
        "    x[i] = (b[i] - S)/A[i][i]\n",
        "  return x"
      ],
      "execution_count": 2,
      "outputs": []
    },
    {
      "cell_type": "code",
      "metadata": {
        "id": "lc1_ePHWAFK8"
      },
      "source": [
        "def gauss(A, b):\n",
        "\n",
        "  n = len(A)\n",
        "\n",
        "  for k in range(0, n-1):\n",
        "    for i in range(k+1, n):\n",
        "      #Calculando o fator m\n",
        "      m = - A[i][k]/A[k][k]\n",
        "      #Atualizando a linha, percorrendo a coluna j \n",
        "      for j in range(k+1, n):\n",
        "        A[i][j] = m*A[k][j] + A[i][j]\n",
        "      # Atualiza o vetor b na linha i\n",
        "      b[i] = m*b[k] + b[i]\n",
        "      A[i][k] = 0\n",
        "  # Agora resolve o sistema triangular superior\n",
        "  x = substretro(A, b)\n",
        "  return x"
      ],
      "execution_count": 3,
      "outputs": []
    },
    {
      "cell_type": "markdown",
      "metadata": {
        "id": "OdUnMPozAIUD"
      },
      "source": [
        "## Exemplo 1\n",
        "\n",
        "$Ax = b$\n",
        "\n",
        "Consideramos a matriz \n",
        "\n",
        "$A = \n",
        "\\left(\n",
        "\\begin{array}{ccc}\n",
        "  1 & -3 & 2 \\\\\n",
        "  -2 & 8 & -1 \\\\\n",
        "  4 & -6 & 5\n",
        "\\end{array}\n",
        "\\right) \n",
        "$\n",
        "\n",
        "e o vetor \n",
        "\n",
        "$\n",
        "b = \n",
        "\\left(\n",
        "\\begin{array}{c}\n",
        "  11 \\\\\n",
        "  -15 \\\\\n",
        "  29\n",
        "\\end{array}\n",
        "\\right) \n",
        "$"
      ]
    },
    {
      "cell_type": "code",
      "metadata": {
        "colab": {
          "base_uri": "https://localhost:8080/"
        },
        "id": "URq7bMuaAP6j",
        "outputId": "0e3598a8-7091-44be-8ab1-550eeca26520"
      },
      "source": [
        "A1 = [[1,-3,2],\n",
        "      [-2,8,-1],\n",
        "      [4,-6,5]]\n",
        "b1 = [11,-15,29]\n",
        "x = gauss(A1, b1)\n",
        "print(x)"
      ],
      "execution_count": 4,
      "outputs": [
        {
          "output_type": "stream",
          "name": "stdout",
          "text": [
            "[2.0, -1.0, 3.0]\n"
          ]
        }
      ]
    },
    {
      "cell_type": "markdown",
      "metadata": {
        "id": "QdogfA32AeKk"
      },
      "source": [
        "###Se tudo der certo, vc deve encontrar \n",
        "$\n",
        "b = \n",
        "\\left(\n",
        "\\begin{array}{c}\n",
        "  2.0 \\\\\n",
        "  -1.0 \\\\\n",
        "  3.0\n",
        "\\end{array}\n",
        "\\right) \n",
        "$"
      ]
    },
    {
      "cell_type": "markdown",
      "metadata": {
        "id": "akRQDQt-AsHe"
      },
      "source": [
        "## Exemplo \n",
        "\n",
        "$Ax = b$\n",
        "\n",
        "Consideramos a matriz \n",
        "\n",
        "$A = \n",
        "\\left(\n",
        "\\begin{array}{ccc}\n",
        "  1 & -1 & 1 \\\\\n",
        "  1 & 2 & 4 \\\\\n",
        "  1 & 0 & 0\n",
        "\\end{array}\n",
        "\\right) \n",
        "$\n",
        "\n",
        "e o vetor \n",
        "\n",
        "$\n",
        "b = \n",
        "\\left(\n",
        "\\begin{array}{c}\n",
        "  -4 \\\\\n",
        "  -1 \\\\\n",
        "  1\n",
        "\\end{array}\n",
        "\\right) \n",
        "$"
      ]
    },
    {
      "cell_type": "markdown",
      "metadata": {
        "id": "mLVvDpUxBgV4"
      },
      "source": [
        "QUESTAO 01"
      ]
    },
    {
      "cell_type": "code",
      "metadata": {
        "colab": {
          "base_uri": "https://localhost:8080/"
        },
        "id": "cWry6NZ0x_yP",
        "outputId": "35a28830-2311-48bc-ce53-ee82fbfc557d"
      },
      "source": [
        "A1 = [[1,-1, 1],\n",
        "      [1, 2, 4],\n",
        "      [1, 0, 0]]\n",
        "b1 = [4, -1, 1]\n",
        "x = gauss(A1, b1)\n",
        "print(x)"
      ],
      "execution_count": 5,
      "outputs": [
        {
          "output_type": "stream",
          "name": "stdout",
          "text": [
            "[1.0, -2.3333333333333335, 0.6666666666666667]\n"
          ]
        }
      ]
    },
    {
      "cell_type": "code",
      "metadata": {
        "colab": {
          "base_uri": "https://localhost:8080/"
        },
        "id": "6vlajvptzHO8",
        "outputId": "5cfe8183-3bd4-426b-e731-2addc437ffd8"
      },
      "source": [
        "x[1]"
      ],
      "execution_count": 6,
      "outputs": [
        {
          "output_type": "execute_result",
          "data": {
            "text/plain": [
              "-2.3333333333333335"
            ]
          },
          "metadata": {},
          "execution_count": 6
        }
      ]
    },
    {
      "cell_type": "code",
      "metadata": {
        "colab": {
          "base_uri": "https://localhost:8080/"
        },
        "id": "WOMDugxVzJ2b",
        "outputId": "875beef1-175a-419f-9f9a-d1b4119b2df0"
      },
      "source": [
        "x[0]"
      ],
      "execution_count": 7,
      "outputs": [
        {
          "output_type": "execute_result",
          "data": {
            "text/plain": [
              "1.0"
            ]
          },
          "metadata": {},
          "execution_count": 7
        }
      ]
    },
    {
      "cell_type": "code",
      "metadata": {
        "colab": {
          "base_uri": "https://localhost:8080/"
        },
        "id": "rCqHuFM9zLzk",
        "outputId": "9b92901a-bff7-4590-ef46-b70b823dc00d"
      },
      "source": [
        "x[2]"
      ],
      "execution_count": 8,
      "outputs": [
        {
          "output_type": "execute_result",
          "data": {
            "text/plain": [
              "0.6666666666666667"
            ]
          },
          "metadata": {},
          "execution_count": 8
        }
      ]
    },
    {
      "cell_type": "markdown",
      "metadata": {
        "id": "ShrjtmcFzPjP"
      },
      "source": [
        "$p(n) = x[0] + x[1] \\cdot n +  x[2] \\cdot n^{2} $\n",
        "\n",
        "### Exemplo \n",
        "\n",
        "$f(0.5) = p(0.5) = x[0] + x[1] \\cdot 0.5 +  x[2] \\cdot 0.5^{2} $"
      ]
    },
    {
      "cell_type": "code",
      "metadata": {
        "colab": {
          "base_uri": "https://localhost:8080/"
        },
        "id": "k-_RumCMzfPD",
        "outputId": "db7253b6-99a5-4fbd-8718-55f0845cb3d7"
      },
      "source": [
        "p = x[0] + x[1]*0.5 + x[2]*(0.5**2)\n",
        "print(p)"
      ],
      "execution_count": 9,
      "outputs": [
        {
          "output_type": "stream",
          "name": "stdout",
          "text": [
            "-5.551115123125783e-17\n"
          ]
        }
      ]
    },
    {
      "cell_type": "code",
      "metadata": {
        "colab": {
          "base_uri": "https://localhost:8080/"
        },
        "id": "Pwzgd9QOz1l-",
        "outputId": "47a3150b-55f4-4e68-fe4f-491c7aee4a9c"
      },
      "source": [
        "q = 1.0 + (-2.3333333333333335)*0.5 + 0.6666666666666667*(0.5**2)\n",
        "print(q)"
      ],
      "execution_count": 10,
      "outputs": [
        {
          "output_type": "stream",
          "name": "stdout",
          "text": [
            "-5.551115123125783e-17\n"
          ]
        }
      ]
    },
    {
      "cell_type": "markdown",
      "metadata": {
        "id": "aE8g9VZZ0dV6"
      },
      "source": [
        "# OBS\n",
        "\n",
        "# 1 - Fazer download de cópia do arquiv em extensão (IPYNB) \n",
        "# 2 - Enviar esta cópia para o email joao.baptista@iff.edu.br\n",
        "\n",
        "### ASSUNTO: NOME_DO_ALUNO-ATIVIDADE04"
      ]
    },
    {
      "cell_type": "code",
      "metadata": {
        "id": "Yk0amKDC0e3I"
      },
      "source": [
        ""
      ],
      "execution_count": 10,
      "outputs": []
    },
    {
      "cell_type": "markdown",
      "metadata": {
        "id": "4TTQVnPqaEsg"
      },
      "source": [
        "# **QUESTÃO 01**/AVA 05_MARGARETE LIMA"
      ]
    },
    {
      "cell_type": "code",
      "metadata": {
        "colab": {
          "base_uri": "https://localhost:8080/"
        },
        "id": "deDFuJqAaf3x",
        "outputId": "c4c4117f-a4a3-418c-caf1-ab2c6f76bc9c"
      },
      "source": [
        "A1 =[[1,0.1,0.1**2,0.1**3],\n",
        "     [1,0.2,0.2**2,0.2**3],\n",
        "     [1,0.4,0.4**2,0.4**3],\n",
        "     [1,0.6,0.6**2,0.6**3]]\n",
        "b1 = [0.905,0.819,0.67,0.549]\n",
        "X =  gauss (A1,b1)\n",
        "print (x)   \n"
      ],
      "execution_count": 27,
      "outputs": [
        {
          "output_type": "stream",
          "name": "stdout",
          "text": [
            "[-19.81999999999515, 29.049999999994398, -12.749999999997845, 2.4999999999997247]\n"
          ]
        }
      ]
    },
    {
      "cell_type": "code",
      "metadata": {
        "colab": {
          "base_uri": "https://localhost:8080/"
        },
        "id": "EEvPvUX1kqrV",
        "outputId": "5e0fa655-e555-4bc0-aac1-2fbb732af5b3"
      },
      "source": [
        "x[0]"
      ],
      "execution_count": 28,
      "outputs": [
        {
          "output_type": "execute_result",
          "data": {
            "text/plain": [
              "-19.81999999999515"
            ]
          },
          "metadata": {},
          "execution_count": 28
        }
      ]
    },
    {
      "cell_type": "code",
      "metadata": {
        "colab": {
          "base_uri": "https://localhost:8080/"
        },
        "id": "KkD2i6WylJFh",
        "outputId": "a4096a9b-5a34-43fb-bb30-4113d009117a"
      },
      "source": [
        "x[1]"
      ],
      "execution_count": 29,
      "outputs": [
        {
          "output_type": "execute_result",
          "data": {
            "text/plain": [
              "29.049999999994398"
            ]
          },
          "metadata": {},
          "execution_count": 29
        }
      ]
    },
    {
      "cell_type": "code",
      "metadata": {
        "colab": {
          "base_uri": "https://localhost:8080/"
        },
        "id": "qJ4vMMhGlMGm",
        "outputId": "c56e776d-907b-45c1-d28f-dcee68d7c787"
      },
      "source": [
        "x[2]"
      ],
      "execution_count": 30,
      "outputs": [
        {
          "output_type": "execute_result",
          "data": {
            "text/plain": [
              "-12.749999999997845"
            ]
          },
          "metadata": {},
          "execution_count": 30
        }
      ]
    },
    {
      "cell_type": "code",
      "metadata": {
        "colab": {
          "base_uri": "https://localhost:8080/"
        },
        "id": "K4Op_xSDN9Sg",
        "outputId": "29af2a64-45e2-4e05-ea22-933be5f91378"
      },
      "source": [
        "x [3]"
      ],
      "execution_count": 31,
      "outputs": [
        {
          "output_type": "execute_result",
          "data": {
            "text/plain": [
              "2.4999999999997247"
            ]
          },
          "metadata": {},
          "execution_count": 31
        }
      ]
    },
    {
      "cell_type": "code",
      "metadata": {
        "colab": {
          "base_uri": "https://localhost:8080/"
        },
        "id": "ojleYK98mJAW",
        "outputId": "9ead3200-357d-49fe-ae39-45c4fd44a607"
      },
      "source": [
        "p = x[0] + x[1]*0.5 + x[2]*(0.5**2) + x[3]*(0.5**3)\n",
        "print(p)"
      ],
      "execution_count": 32,
      "outputs": [
        {
          "output_type": "stream",
          "name": "stdout",
          "text": [
            "-8.169999999997447\n"
          ]
        }
      ]
    },
    {
      "cell_type": "markdown",
      "metadata": {
        "id": "SEziAyVxmG_f"
      },
      "source": [
        "RESULTADO ESPERADO  **0.606200000000002**\n",
        "\n",
        "\n",
        "\n"
      ]
    },
    {
      "cell_type": "markdown",
      "metadata": {
        "id": "L3MrSHOvm7F2"
      },
      "source": [
        "**QUESTÃO 02**"
      ]
    },
    {
      "cell_type": "code",
      "metadata": {
        "colab": {
          "base_uri": "https://localhost:8080/"
        },
        "id": "BF40bVu-wMTG",
        "outputId": "fc63e488-c965-4e9f-c38e-29db8d0c3529"
      },
      "source": [
        "A1 = [[1, 1, 1**2, 1**3, 1**4, 1**5],\n",
        "      [1, 1.01, 1.01**2, 1.01**3, 1.01**4, 1.01**5],\n",
        "      [1, 1.02, 1.02**2, 1.02**3, 1.02**4, 1.02**5],\n",
        "      [1, 1.03, 1.03**2, 1.03**3, 1.03**4, 1.03**5],\n",
        "      [1, 1.04, 1.04**2, 1.04**3, 1.04**4, 1.04**5],\n",
        "      [1, 1.05, 1.05**2, 1.05**3, 1.05**4, 1.05**5]]\n",
        "b1 = [1, 1.005, 1.01, 1.0149, 1.0198, 1.0247]\n",
        "x = gauss(A1, b1)\n",
        "print(x)    "
      ],
      "execution_count": 19,
      "outputs": [
        {
          "output_type": "stream",
          "name": "stdout",
          "text": [
            "[28490.69455403584, -138800.7469570735, 270465.29503426823, -263487.62489952566, 128333.39408769699, -25000.011819401883]\n"
          ]
        }
      ]
    },
    {
      "cell_type": "markdown",
      "metadata": {
        "id": "J3lBjg-9GEFm"
      },
      "source": [
        "Raiz de 1.1 = p"
      ]
    },
    {
      "cell_type": "code",
      "metadata": {
        "colab": {
          "base_uri": "https://localhost:8080/"
        },
        "id": "MNz5PvIZF1t4",
        "outputId": "3450fb94-80c2-4442-f988-c4df120ef510"
      },
      "source": [
        "p = x[0] + x[1]*pow(1.1,1/2) + x[2]*(pow(1.1,1/2)**2) + x[3]*(pow(1.1,1/2)**3) + x[4]*(pow(1.1,1/2)**4) + x[5]*(pow(1.1,1/2)**5)\n",
        "print(p)"
      ],
      "execution_count": 20,
      "outputs": [
        {
          "output_type": "stream",
          "name": "stdout",
          "text": [
            "1.0241242209012853\n"
          ]
        }
      ]
    },
    {
      "cell_type": "markdown",
      "metadata": {
        "id": "taIwhDo4SiRG"
      },
      "source": [
        "QUESTÃO 03"
      ]
    },
    {
      "cell_type": "code",
      "metadata": {
        "colab": {
          "base_uri": "https://localhost:8080/"
        },
        "id": "LUwY8KthT6ZU",
        "outputId": "eea06d4f-0439-4bd6-f73b-c23a04350792"
      },
      "source": [
        "A1 =[[1, 2.4, 2.4**2,  2.4**3],\n",
        "     [1, 2.6, 2.6**2,  2.6**3],\n",
        "     [1, 2.8, 2.8**2,  2.8**3],\n",
        "     [1, 3.0, 3.0**2,  3.0**3]]\n",
        "b1 = [11.02,13.46,16.44,20.08]\n",
        "x =  gauss(A1,b1)\n",
        "print (x)"
      ],
      "execution_count": 21,
      "outputs": [
        {
          "output_type": "stream",
          "name": "stdout",
          "text": [
            "[-19.81999999999515, 29.049999999994398, -12.749999999997845, 2.4999999999997247]\n"
          ]
        }
      ]
    },
    {
      "cell_type": "code",
      "metadata": {
        "id": "LfZkbZKYAToE"
      },
      "source": [
        "p =x[0] + x[1]*2.7 + x[2]*(2.7**2) + x[3]*(2.7**3)\n",
        "print (p)"
      ],
      "execution_count": null,
      "outputs": []
    },
    {
      "cell_type": "markdown",
      "metadata": {
        "id": "jV5U3VBnlnZ0"
      },
      "source": [
        "RESULTADO ESPERADO\n",
        "**14.875000000000014**"
      ]
    },
    {
      "cell_type": "markdown",
      "metadata": {
        "id": "DdRO0aM7h-uO"
      },
      "source": [
        "QUESTÃO 4"
      ]
    },
    {
      "cell_type": "code",
      "metadata": {
        "id": "iY7OF_9iiCW7"
      },
      "source": [
        "A1 =[[1,0.1,0.01,0.001],\n",
        "     [1,0.2,0.04,0.008],\n",
        "     [1,0.4,0.16,0.064],\n",
        "     [1,0.6,0.36,0.216]]\n",
        "b1 = [0.905,0.819,0.67,0.549]  \n",
        "x = gauss(A1,b1)\n",
        "print (x)"
      ],
      "execution_count": null,
      "outputs": []
    },
    {
      "cell_type": "code",
      "metadata": {
        "id": "l2EnL_lTsQ1S"
      },
      "source": [
        ""
      ],
      "execution_count": null,
      "outputs": []
    }
  ]
}