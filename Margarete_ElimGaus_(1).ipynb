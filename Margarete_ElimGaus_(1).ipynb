{
  "nbformat": 4,
  "nbformat_minor": 0,
  "metadata": {
    "colab": {
      "name": "Margarete/ElimGaus (1).ipynb",
      "provenance": [],
      "include_colab_link": true
    },
    "kernelspec": {
      "name": "python3",
      "display_name": "Python 3"
    },
    "language_info": {
      "name": "python"
    }
  },
  "cells": [
    {
      "cell_type": "markdown",
      "metadata": {
        "id": "view-in-github",
        "colab_type": "text"
      },
      "source": [
        "<a href=\"https://colab.research.google.com/github/EgoIsabor/CS-Notes/blob/master/Margarete_ElimGaus_(1).ipynb\" target=\"_parent\"><img src=\"https://colab.research.google.com/assets/colab-badge.svg\" alt=\"Open In Colab\"/></a>"
      ]
    },
    {
      "cell_type": "markdown",
      "metadata": {
        "id": "2U5Y4zvI__in"
      },
      "source": [
        "#Método da Eliminação de Gauss para solução de sistema Linear."
      ]
    },
    {
      "cell_type": "code",
      "metadata": {
        "id": "YXDa9LVKAD-h"
      },
      "source": [
        "def substretro(A, b):\n",
        "\n",
        "  n = len(A) # n é a ordem da matriz.\n",
        "\n",
        "  x = n*[0] #inicializando um vetor x com tamanho n e elementos iguais a 0.\n",
        "\n",
        "  for i  in range(n-1, -1, -1):\n",
        "    S = 0\n",
        "    for j in range(i + 1, n):\n",
        "      S = S + A[i][j]*x[j]\n",
        "    x[i] = (b[i] - S)/A[i][i]\n",
        "  return x"
      ],
      "execution_count": 1,
      "outputs": []
    },
    {
      "cell_type": "code",
      "metadata": {
        "id": "lc1_ePHWAFK8"
      },
      "source": [
        "def gauss(A, b):\n",
        "\n",
        "  n = len(A)\n",
        "\n",
        "  for k in range(0, n-1):\n",
        "    for i in range(k+1, n):\n",
        "      #Calculando o fator m\n",
        "      m = - A[i][k]/A[k][k]\n",
        "      #Atualizando a linha, percorrendo a coluna j \n",
        "      for j in range(k+1, n):\n",
        "        A[i][j] = m*A[k][j] + A[i][j]\n",
        "      # Atualiza o vetor b na linha i\n",
        "      b[i] = m*b[k] + b[i]\n",
        "      A[i][k] = 0\n",
        "  # Agora resolve o sistema triangular superior\n",
        "  x = substretro(A, b)\n",
        "  return x"
      ],
      "execution_count": 2,
      "outputs": []
    },
    {
      "cell_type": "markdown",
      "metadata": {
        "id": "OdUnMPozAIUD"
      },
      "source": [
        "## Exemplo 1\n",
        "\n",
        "$Ax = b$\n",
        "\n",
        "Consideramos a matriz \n",
        "\n",
        "$A = \n",
        "\\left(\n",
        "\\begin{array}{ccc}\n",
        "  1 & -3 & 2 \\\\\n",
        "  -2 & 8 & -1 \\\\\n",
        "  4 & -6 & 5\n",
        "\\end{array}\n",
        "\\right) \n",
        "$\n",
        "\n",
        "e o vetor \n",
        "\n",
        "$\n",
        "b = \n",
        "\\left(\n",
        "\\begin{array}{c}\n",
        "  11 \\\\\n",
        "  -15 \\\\\n",
        "  29\n",
        "\\end{array}\n",
        "\\right) \n",
        "$"
      ]
    },
    {
      "cell_type": "code",
      "metadata": {
        "colab": {
          "base_uri": "https://localhost:8080/"
        },
        "id": "URq7bMuaAP6j",
        "outputId": "6fd741ac-cbca-4aca-d1e5-c2ffbac15d6d"
      },
      "source": [
        "A1 = [[1,-3,2],\n",
        "      [-2,8,-1],\n",
        "      [4,-6,5]]\n",
        "b1 = [11,-15,29]\n",
        "x = gauss(A1, b1)\n",
        "print(x)"
      ],
      "execution_count": 3,
      "outputs": [
        {
          "output_type": "stream",
          "name": "stdout",
          "text": [
            "[2.0, -1.0, 3.0]\n"
          ]
        }
      ]
    },
    {
      "cell_type": "markdown",
      "metadata": {
        "id": "QdogfA32AeKk"
      },
      "source": [
        "###Se tudo der certo, vc deve encontrar \n",
        "$\n",
        "b = \n",
        "\\left(\n",
        "\\begin{array}{c}\n",
        "  2.0 \\\\\n",
        "  -1.0 \\\\\n",
        "  3.0\n",
        "\\end{array}\n",
        "\\right) \n",
        "$"
      ]
    },
    {
      "cell_type": "markdown",
      "metadata": {
        "id": "akRQDQt-AsHe"
      },
      "source": [
        "## Exemplo \n",
        "\n",
        "$Ax = b$\n",
        "\n",
        "Consideramos a matriz \n",
        "\n",
        "$A = \n",
        "\\left(\n",
        "\\begin{array}{ccc}\n",
        "  1 & -1 & 1 \\\\\n",
        "  1 & 2 & 4 \\\\\n",
        "  1 & 0 & 0\n",
        "\\end{array}\n",
        "\\right) \n",
        "$\n",
        "\n",
        "e o vetor \n",
        "\n",
        "$\n",
        "b = \n",
        "\\left(\n",
        "\\begin{array}{c}\n",
        "  -4 \\\\\n",
        "  -1 \\\\\n",
        "  1\n",
        "\\end{array}\n",
        "\\right) \n",
        "$"
      ]
    },
    {
      "cell_type": "markdown",
      "metadata": {
        "id": "mLVvDpUxBgV4"
      },
      "source": [
        "QUESTAO 01"
      ]
    },
    {
      "cell_type": "code",
      "metadata": {
        "colab": {
          "base_uri": "https://localhost:8080/"
        },
        "id": "cWry6NZ0x_yP",
        "outputId": "768e02f3-68a9-43bf-88ce-a10268b09e12"
      },
      "source": [
        "A1 = [[1,-1, 1],\n",
        "      [1, 2, 4],\n",
        "      [1, 0, 0]]\n",
        "b1 = [4, -1, 1]\n",
        "x = gauss(A1, b1)\n",
        "print(x)"
      ],
      "execution_count": 4,
      "outputs": [
        {
          "output_type": "stream",
          "name": "stdout",
          "text": [
            "[1.0, -2.3333333333333335, 0.6666666666666667]\n"
          ]
        }
      ]
    },
    {
      "cell_type": "code",
      "metadata": {
        "colab": {
          "base_uri": "https://localhost:8080/"
        },
        "id": "6vlajvptzHO8",
        "outputId": "e1a1218c-96b4-408a-dcbb-0930648dea70"
      },
      "source": [
        "x[1]"
      ],
      "execution_count": 5,
      "outputs": [
        {
          "output_type": "execute_result",
          "data": {
            "text/plain": [
              "-2.3333333333333335"
            ]
          },
          "metadata": {},
          "execution_count": 5
        }
      ]
    },
    {
      "cell_type": "code",
      "metadata": {
        "colab": {
          "base_uri": "https://localhost:8080/"
        },
        "id": "WOMDugxVzJ2b",
        "outputId": "3d9ae8bb-251a-4f55-9a3d-b0317a8f0b9e"
      },
      "source": [
        "x[0]"
      ],
      "execution_count": 6,
      "outputs": [
        {
          "output_type": "execute_result",
          "data": {
            "text/plain": [
              "1.0"
            ]
          },
          "metadata": {},
          "execution_count": 6
        }
      ]
    },
    {
      "cell_type": "code",
      "metadata": {
        "colab": {
          "base_uri": "https://localhost:8080/"
        },
        "id": "rCqHuFM9zLzk",
        "outputId": "8540a676-9cbb-48ef-954e-240d89cdbe6b"
      },
      "source": [
        "x[2]"
      ],
      "execution_count": 7,
      "outputs": [
        {
          "output_type": "execute_result",
          "data": {
            "text/plain": [
              "0.6666666666666667"
            ]
          },
          "metadata": {},
          "execution_count": 7
        }
      ]
    },
    {
      "cell_type": "markdown",
      "metadata": {
        "id": "ShrjtmcFzPjP"
      },
      "source": [
        "$p(n) = x[0] + x[1] \\cdot n +  x[2] \\cdot n^{2} $\n",
        "\n",
        "### Exemplo \n",
        "\n",
        "$f(0.5) = p(0.5) = x[0] + x[1] \\cdot 0.5 +  x[2] \\cdot 0.5^{2} $"
      ]
    },
    {
      "cell_type": "code",
      "metadata": {
        "colab": {
          "base_uri": "https://localhost:8080/"
        },
        "id": "k-_RumCMzfPD",
        "outputId": "0b17b428-8a84-40ea-8e95-70dd9cce53f5"
      },
      "source": [
        "p = x[0] + x[1]*0.5 + x[2]*(0.5**2)\n",
        "print(p)"
      ],
      "execution_count": 8,
      "outputs": [
        {
          "output_type": "stream",
          "name": "stdout",
          "text": [
            "-5.551115123125783e-17\n"
          ]
        }
      ]
    },
    {
      "cell_type": "code",
      "metadata": {
        "colab": {
          "base_uri": "https://localhost:8080/"
        },
        "id": "Pwzgd9QOz1l-",
        "outputId": "7731ad04-e4a1-4515-fc42-32cc7ae85902"
      },
      "source": [
        "q = 1.0 + (-2.3333333333333335)*0.5 + 0.6666666666666667*(0.5**2)\n",
        "print(q)"
      ],
      "execution_count": 9,
      "outputs": [
        {
          "output_type": "stream",
          "name": "stdout",
          "text": [
            "-5.551115123125783e-17\n"
          ]
        }
      ]
    },
    {
      "cell_type": "markdown",
      "metadata": {
        "id": "aE8g9VZZ0dV6"
      },
      "source": [
        "# OBS\n",
        "\n",
        "# 1 - Fazer download de cópia do arquiv em extensão (IPYNB) \n",
        "# 2 - Enviar esta cópia para o email joao.baptista@iff.edu.br\n",
        "\n",
        "### ASSUNTO: NOME_DO_ALUNO-ATIVIDADE04"
      ]
    },
    {
      "cell_type": "code",
      "metadata": {
        "id": "Yk0amKDC0e3I"
      },
      "source": [
        ""
      ],
      "execution_count": 9,
      "outputs": []
    },
    {
      "cell_type": "markdown",
      "metadata": {
        "id": "4TTQVnPqaEsg"
      },
      "source": [
        "# **QUESTÃO 01**/AVA 05_MARGARETE LIMA"
      ]
    },
    {
      "cell_type": "code",
      "metadata": {
        "colab": {
          "base_uri": "https://localhost:8080/"
        },
        "id": "deDFuJqAaf3x",
        "outputId": "96f1a968-e487-43d5-e3c1-6a2cf9985206"
      },
      "source": [
        "A1 =[[1, 1 ,0.01,0.001],\n",
        "    [1,0.2,0.04,0.005],\n",
        "    [1,0.4,0.16,0.064],\n",
        "    [1,0.6,0.36,0.216]]\n",
        "b1 = [0.905,0.819,0.67,0.549]\n",
        "X =  gauss (A1,b1)\n",
        "print (x)   \n"
      ],
      "execution_count": 10,
      "outputs": [
        {
          "output_type": "stream",
          "name": "stdout",
          "text": [
            "[1.0, -2.3333333333333335, 0.6666666666666667]\n"
          ]
        }
      ]
    },
    {
      "cell_type": "code",
      "metadata": {
        "colab": {
          "base_uri": "https://localhost:8080/"
        },
        "id": "EEvPvUX1kqrV",
        "outputId": "e2e4dbcb-7814-4393-c9ab-fbca7a23a9c9"
      },
      "source": [
        "x [0]"
      ],
      "execution_count": 11,
      "outputs": [
        {
          "output_type": "execute_result",
          "data": {
            "text/plain": [
              "1.0"
            ]
          },
          "metadata": {},
          "execution_count": 11
        }
      ]
    },
    {
      "cell_type": "code",
      "metadata": {
        "colab": {
          "base_uri": "https://localhost:8080/"
        },
        "id": "KkD2i6WylJFh",
        "outputId": "c23d483b-f25b-4655-895e-c901c4ca7ed1"
      },
      "source": [
        "x[1]"
      ],
      "execution_count": 12,
      "outputs": [
        {
          "output_type": "execute_result",
          "data": {
            "text/plain": [
              "-2.3333333333333335"
            ]
          },
          "metadata": {},
          "execution_count": 12
        }
      ]
    },
    {
      "cell_type": "code",
      "metadata": {
        "colab": {
          "base_uri": "https://localhost:8080/"
        },
        "id": "qJ4vMMhGlMGm",
        "outputId": "2c01c980-d9d4-462c-e2c9-110d8729094a"
      },
      "source": [
        "x[2]"
      ],
      "execution_count": 13,
      "outputs": [
        {
          "output_type": "execute_result",
          "data": {
            "text/plain": [
              "0.6666666666666667"
            ]
          },
          "metadata": {},
          "execution_count": 13
        }
      ]
    },
    {
      "cell_type": "markdown",
      "metadata": {
        "id": "sbVSMVTElpPq"
      },
      "source": [
        "f(0.5) = [0]"
      ]
    },
    {
      "cell_type": "code",
      "metadata": {
        "colab": {
          "base_uri": "https://localhost:8080/"
        },
        "id": "ojleYK98mJAW",
        "outputId": "e396b501-fa82-4aae-9a7c-14fd93b2c98a"
      },
      "source": [
        "p = x[0] + x[1]*0.5 + x[2]*(0.5**2) \n",
        "print(p)"
      ],
      "execution_count": 14,
      "outputs": [
        {
          "output_type": "stream",
          "name": "stdout",
          "text": [
            "-5.551115123125783e-17\n"
          ]
        }
      ]
    }
  ]
}