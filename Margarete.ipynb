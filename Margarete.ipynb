{
  "nbformat": 4,
  "nbformat_minor": 0,
  "metadata": {
    "colab": {
      "name": "Margarete.ipynb",
      "provenance": [],
      "authorship_tag": "ABX9TyOsDIttzdX1DMlBuKZpVL67",
      "include_colab_link": true
    },
    "kernelspec": {
      "name": "python3",
      "display_name": "Python 3"
    },
    "language_info": {
      "name": "python"
    }
  },
  "cells": [
    {
      "cell_type": "markdown",
      "metadata": {
        "id": "view-in-github",
        "colab_type": "text"
      },
      "source": [
        "<a href=\"https://colab.research.google.com/github/EgoIsabor/CS-Notes/blob/master/Margarete.ipynb\" target=\"_parent\"><img src=\"https://colab.research.google.com/assets/colab-badge.svg\" alt=\"Open In Colab\"/></a>"
      ]
    },
    {
      "cell_type": "code",
      "metadata": {
        "id": "j6lcTbmaVjdd"
      },
      "source": [
        "import numpy as np\n"
      ],
      "execution_count": null,
      "outputs": []
    },
    {
      "cell_type": "code",
      "metadata": {
        "id": "KKab_fcjVyOs"
      },
      "source": [
        "def norma(v,x):\n",
        "  n = len(x)\n",
        "  maxden = maxnum = 0\n",
        "  for i in range(0,n):\n",
        "    numerador = abs(v[i] - x[i])\n",
        "    if numerador > maxnum:\n",
        "      maxnum = numerador\n",
        "    denominador = abs(v[i])\n",
        "    if denominador > maxden:\n",
        "      maxden = denominador\n",
        "    return maxnum / maxden"
      ],
      "execution_count": null,
      "outputs": []
    },
    {
      "cell_type": "code",
      "metadata": {
        "id": "FTEanvi9m3-z"
      },
      "source": [
        "def jacobi(A, B, erro, iteramax=50):  \n",
        "  n = len(A) \n",
        "  x = n*[0] \n",
        "  v = n*[0] \n",
        "         \n",
        "  # modificando a matriz A para \\\"C\\\" \n",
        "  for i in range(0, n): \n",
        "    for j in range(0,n): \n",
        "      if i!=j: \n",
        "        A[i][j] = A[i][j]/A[i][i] \n",
        "    b[i] = b[i]/A[i][i] \n",
        " \n",
        "  # Dando ao valor inicial x[i] o valor do vetor b[i] modificado \n",
        "    x[i] = b[i] \n",
        " \n",
        "    for k in range(0, iteramax + 1): \n",
        "      for i in range(0,n):  \n",
        "        soma = 0 \n",
        "        for j in range (0,n): \n",
        "          if i!= j: \n",
        "            soma = soma + A[i][j]*x[j] \n",
        "        v[i] = b[i] - soma #criando vetor \n",
        "      teste = norma(v,x) \n",
        "      if teste < erro: \n",
        "        return v \n",
        "      x = v[:]"
      ],
      "execution_count": null,
      "outputs": []
    },
    {
      "cell_type": "code",
      "metadata": {
        "colab": {
          "base_uri": "https://localhost:8080/"
        },
        "id": "i6oCTKNeDDtr",
        "outputId": "32954c19-fea0-4fb9-a959-987c442317ac"
      },
      "source": [
        "norma(x1,x0) #correto"
      ],
      "execution_count": null,
      "outputs": [
        {
          "output_type": "execute_result",
          "data": {
            "text/plain": [
              "0.27083333333333337"
            ]
          },
          "metadata": {},
          "execution_count": 5
        }
      ]
    },
    {
      "cell_type": "code",
      "metadata": {
        "id": "puGWIf8psU8d"
      },
      "source": [
        "A =[[1,3,-1[1,2,-2],[0,6,8]]"
      ],
      "execution_count": null,
      "outputs": []
    },
    {
      "cell_type": "code",
      "metadata": {
        "id": "ixiuGr6msuvQ"
      },
      "source": [
        "b = [-2,3,-6]"
      ],
      "execution_count": null,
      "outputs": []
    },
    {
      "cell_type": "code",
      "metadata": {
        "id": "k7VHPpZssz3R"
      },
      "source": [
        "erro = 0.003"
      ],
      "execution_count": null,
      "outputs": []
    },
    {
      "cell_type": "code",
      "metadata": {
        "colab": {
          "base_uri": "https://localhost:8080/"
        },
        "id": "CZQ92Eo1wJ6R",
        "outputId": "8fdbb2fa-cc23-439c-b2de-4a7a0d1c4805"
      },
      "source": [
        "jacobi (A,b,erro)"
      ],
      "execution_count": null,
      "outputs": [
        {
          "output_type": "execute_result",
          "data": {
            "text/plain": [
              "[0.25, 1.25, 1.0]"
            ]
          },
          "metadata": {},
          "execution_count": 9
        }
      ]
    }
  ]
}